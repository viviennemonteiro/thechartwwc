{
 "cells": [
  {
   "cell_type": "code",
   "execution_count": 51,
   "metadata": {},
   "outputs": [],
   "source": [
    "import pandas as pd\n",
    "from pandas import DataFrame\n",
    "import numpy\n",
    "import networkx as nx\n",
    "import matplotlib.pyplot as plt\n",
    "import os\n",
    "\n",
    "from pyvis.network import Network\n",
    "\n",
    "from collections import namedtuple"
   ]
  },
  {
   "cell_type": "code",
   "execution_count": 52,
   "metadata": {},
   "outputs": [],
   "source": [
    "G = nx.Graph()\n",
    "net = Network(height=\"750px\", width=\"750px\",\n",
    "              bgcolor=\"#222222\", font_color=\"white\")"
   ]
  },
  {
   "cell_type": "code",
   "execution_count": 53,
   "metadata": {},
   "outputs": [],
   "source": [
    "sheet_id = '1VJdFRq9w0POFoZKxncqSwhqkmjrbGfvC'\n",
    "sheet_name = 'Sheet1'\n",
    "url = f'https://docs.google.com/spreadsheets/d/{sheet_id}/gviz/tq?tqx=out:csv&sheet={sheet_name}'"
   ]
  },
  {
   "cell_type": "code",
   "execution_count": 54,
   "metadata": {},
   "outputs": [],
   "source": [
    "chartdata = pd.read_csv(url)\n",
    "chartdata.dropna(axis=0, thresh=3, inplace=True)"
   ]
  },
  {
   "cell_type": "code",
   "execution_count": 55,
   "metadata": {},
   "outputs": [],
   "source": [
    "wwc_players = chartdata['player'].where(\n",
    "    chartdata['at_wwc'] == 'Y').fillna(value='NA')\n",
    "nonwwc_players = chartdata['player'].where(\n",
    "    chartdata['at_wwc'] == 'N').fillna(value='NA')\n",
    "current_rel = chartdata['current_rel'].fillna(value='NA')\n",
    "former_rel = chartdata['former_rel'].fillna(value='NA')"
   ]
  },
  {
   "cell_type": "code",
   "execution_count": 56,
   "metadata": {},
   "outputs": [],
   "source": [
    "flag_icons = {\n",
    "    \"Australia\": \"icons\\icons8-australia-48.png\",\n",
    "    \"USA\": \"icons\\icons8-usa-48.png\",\n",
    "    \"Denmark\": \"icons\\icons8-denmark-48.png\",\n",
    "    \"Sweden\": \"icons\\icons8-sweden-48.png\",\n",
    "    \"Germany\": \"icons\\icons8-germany-48.png\",\n",
    "    \"England\": \"icons\\icons8-england-48.png\",\n",
    "    \"Netherlands\": \"icons\\icons8-netherlands-48.png\",\n",
    "    \"Scotland\": \"icons\\icons8-scotland-48.png\",\n",
    "    \"Ireland\": \"icons\\icons8-ireland-48.png\",\n",
    "    \"Switzerland\": \"icons\\icons8-switzerland-48.png\",\n",
    "    \"Brazil\": \"icons\\icons8-brazil-48.png\",\n",
    "    \"Norway\": \"icons\\icons8-norway-48.png\",\n",
    "    \"Spain\": \"icons\\icons8-spain-48.png\",\n",
    "    \"New Zealand\": \"icons\\icons8-new-zealand-48.png\",\n",
    "    \"Italy\": \"icons\\icons8-italy-48.png\",\n",
    "    \"Colombia\": \"icons\\icons8-colombia-48.png\"\n",
    "}\n",
    "\n",
    "player_country = chartdata['wwc_team']"
   ]
  },
  {
   "cell_type": "code",
   "execution_count": 57,
   "metadata": {},
   "outputs": [],
   "source": [
    "images = {k: os.path.relpath(fname) for k, fname in flag_icons.items()}"
   ]
  },
  {
   "cell_type": "code",
   "execution_count": 58,
   "metadata": {},
   "outputs": [],
   "source": [
    "# add wwc players\n",
    "edge_data = zip(wwc_players, player_country)\n",
    "for e in edge_data:\n",
    "    plrs = e[0]\n",
    "    ctry = e[1]\n",
    "\n",
    "    if plrs == 'NA':\n",
    "        continue\n",
    "\n",
    "    G.add_node(plrs, title=plrs, color='#5a5af2',  shape='image',\n",
    "               image=images[ctry], size=20, mass=.75)\n",
    "\n",
    "# add non-wwc players\n",
    "edge_data = zip(nonwwc_players, player_country)\n",
    "for e in edge_data:\n",
    "    plrs = e[0]\n",
    "    ctry = e[1]\n",
    "\n",
    "    if plrs == 'NA':\n",
    "        continue\n",
    "\n",
    "    G.add_node(plrs, color=\"#8f8fbc\", title=plrs,\n",
    "               shape='image', image=images[ctry])\n",
    "\n",
    "edge_data = zip(wwc_players, current_rel, nonwwc_players)\n",
    "# current relationships\n",
    "for e in edge_data:\n",
    "\n",
    "    wwcplrs = e[0]\n",
    "    crel = e[1]\n",
    "    nonplrs = e[2]\n",
    "# in the relationship edges it firsts makes sure that there is data in crel -->\n",
    "# if yes checks for data in wwcplrs --> then checks for nonplrs data\n",
    "    if crel == 'NA':\n",
    "        continue\n",
    "\n",
    "    if wwcplrs != 'NA':\n",
    "        G.add_edge(wwcplrs, crel, color='#0fbd66')\n",
    "\n",
    "    if nonplrs != 'NA':\n",
    "        G.add_edge(nonplrs, crel, color='#0fbd66')\n",
    "\n",
    "# former relationships\n",
    "edge_data = zip(wwc_players, former_rel, nonwwc_players)\n",
    "\n",
    "for e in edge_data:\n",
    "    wwcplrs = e[0]\n",
    "    frel = e[1]\n",
    "    nonplrs = e[2]\n",
    "\n",
    "    if frel == 'NA':\n",
    "        continue\n",
    "\n",
    "    if wwcplrs != 'NA':\n",
    "        G.add_edge(wwcplrs, frel, color='#5c7066')\n",
    "\n",
    "    if nonplrs != 'NA':\n",
    "        G.add_edge(nonplrs, frel, color='#5c7066')"
   ]
  },
  {
   "cell_type": "code",
   "execution_count": 59,
   "metadata": {},
   "outputs": [],
   "source": [
    "neighbor_map = net.get_adj_list()\n",
    "\n",
    "# add neighbor data to node hover data\n",
    "for node in net.nodes:\n",
    "    node[\"title\"] += \"\\n\\nRelationships: \\n\" + \\\n",
    "        \"\\n\".join(neighbor_map[node[\"id\"]])"
   ]
  },
  {
   "cell_type": "code",
   "execution_count": 60,
   "metadata": {},
   "outputs": [],
   "source": [
    "net.from_nx(G)\n",
    "net.show('nodes.html')"
   ]
  }
 ],
 "metadata": {
  "kernelspec": {
   "display_name": "py4ds",
   "language": "python",
   "name": "python3"
  },
  "language_info": {
   "codemirror_mode": {
    "name": "ipython",
    "version": 3
   },
   "file_extension": ".py",
   "mimetype": "text/x-python",
   "name": "python",
   "nbconvert_exporter": "python",
   "pygments_lexer": "ipython3",
   "version": "3.11.4"
  },
  "orig_nbformat": 4
 },
 "nbformat": 4,
 "nbformat_minor": 2
}
